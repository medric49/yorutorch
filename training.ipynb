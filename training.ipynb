{
 "cells": [
  {
   "cell_type": "markdown",
   "metadata": {},
   "source": [
    "# Importation of libraries"
   ]
  },
  {
   "cell_type": "code",
   "execution_count": null,
   "metadata": {},
   "outputs": [],
   "source": [
    "import pytorch_lightning as pl\n",
    "from torch import nn, optim\n",
    "import torchvision\n",
    "import string\n",
    "from efficientnet_pytorch import EfficientNet\n",
    "from yorutorch import datasets, transforms, data_modules, models, trainings"
   ]
  },
  {
   "cell_type": "markdown",
   "metadata": {},
   "source": [
    "# Preparation of useful classes"
   ]
  },
  {
   "cell_type": "code",
   "execution_count": null,
   "metadata": {},
   "outputs": [],
   "source": [
    "classes = string.ascii_lowercase + string.digits\n",
    "\n",
    "\n",
    "class CharToClass:\n",
    "    def __call__(self, c):\n",
    "        return classes.index(c)"
   ]
  },
  {
   "cell_type": "markdown",
   "metadata": {},
   "source": [
    "# STEP 1 : Definition of the training data"
   ]
  },
  {
   "cell_type": "markdown",
   "metadata": {},
   "source": [
    "Get the training data"
   ]
  },
  {
   "cell_type": "code",
   "execution_count": null,
   "metadata": {},
   "outputs": [],
   "source": [
    "train_dataset = datasets.ImageCSVTrainDataset(\n",
    "        csv_path='data/train.csv',\n",
    "        key_col_name='image',\n",
    "        targets_col_names=['char'],\n",
    "        key_to_path_fn=lambda key: f'data/images/{key}',\n",
    "        target_transform=torchvision.transforms.Compose([\n",
    "            CharToClass(),\n",
    "            transforms.ToLong(),\n",
    "        ])\n",
    "    )"
   ]
  },
  {
   "cell_type": "markdown",
   "metadata": {},
   "source": [
    "Split the data into the training data and the validation data"
   ]
  },
  {
   "cell_type": "code",
   "execution_count": null,
   "metadata": {},
   "outputs": [],
   "source": [
    "train_dataset, valid_dataset = train_dataset.split(0.2)"
   ]
  },
  {
   "cell_type": "markdown",
   "metadata": {},
   "source": [
    "Affect the transformations (you can also define transformations when you create the dataset)"
   ]
  },
  {
   "cell_type": "code",
   "execution_count": null,
   "metadata": {},
   "outputs": [],
   "source": [
    "train_dataset.transform = torchvision.transforms.Compose([\n",
    "            torchvision.transforms.ToTensor(),\n",
    "            torchvision.transforms.RandomErasing(p=0.1, scale=(0.02, 0.3)),\n",
    "            torchvision.transforms.RandomApply([torchvision.transforms.RandomRotation((-45, 45))], p=0.3),\n",
    "            torchvision.transforms.RandomErasing(p=0.1, scale=(0.02, 0.3)),\n",
    "            torchvision.transforms.RandomResizedCrop(112, scale=(0.6, 1.)),\n",
    "            torchvision.transforms.RandomErasing(p=0.1, scale=(0.02, 0.3)),\n",
    "            torchvision.transforms.ColorJitter(brightness=0.5, contrast=0.5, saturation=0.5, hue=0.5),\n",
    "            torchvision.transforms.RandomGrayscale(p=0.1),\n",
    "            torchvision.transforms.RandomApply([torchvision.transforms.GaussianBlur(9, sigma=(0.1, 2.0))], p=0.3),\n",
    "            torchvision.transforms.Normalize([0.485, 0.456, 0.406], [0.229, 0.224, 0.225]),\n",
    "        ])"
   ]
  },
  {
   "cell_type": "code",
   "execution_count": null,
   "metadata": {},
   "outputs": [],
   "source": [
    "valid_dataset.transform = torchvision.transforms.Compose([\n",
    "        torchvision.transforms.ToTensor(),\n",
    "        torchvision.transforms.Normalize([0.485, 0.456, 0.406], [0.229, 0.224, 0.225])\n",
    "    ])"
   ]
  },
  {
   "cell_type": "markdown",
   "metadata": {},
   "source": [
    "Create the data module used by the training procedure"
   ]
  },
  {
   "cell_type": "code",
   "execution_count": null,
   "metadata": {},
   "outputs": [],
   "source": [
    "data_module = data_modules.DataModule(\n",
    "        train_dataset=train_dataset,\n",
    "        valid_dataset=valid_dataset,\n",
    "        batch_size=64,\n",
    "        num_workers=16,\n",
    "        valid_num_workers=16)"
   ]
  },
  {
   "cell_type": "markdown",
   "metadata": {},
   "source": [
    "# STEP 2 : Definition of the model"
   ]
  },
  {
   "cell_type": "markdown",
   "metadata": {},
   "source": [
    "Create the model to train based on a neural network"
   ]
  },
  {
   "cell_type": "code",
   "execution_count": null,
   "metadata": {},
   "outputs": [],
   "source": [
    "model = models.Model(EfficientNet.from_pretrained('efficientnet-b0', num_classes=36))\n",
    "\n",
    "# If you want to load the model from a checkpoint file uncomment the next line\n",
    "# model = models.Model.load_from_checkpoint('efficientnet.ckpt')"
   ]
  },
  {
   "cell_type": "markdown",
   "metadata": {},
   "source": [
    "Init parameter to use during the training to optimize the model"
   ]
  },
  {
   "cell_type": "code",
   "execution_count": null,
   "metadata": {},
   "outputs": [],
   "source": [
    "model.init_training_parameters(\n",
    "        criterion=nn.CrossEntropyLoss(),\n",
    "        optimizer=optim.Adam(params=model.parameters(), lr=0.001)\n",
    "    )"
   ]
  },
  {
   "cell_type": "markdown",
   "metadata": {},
   "source": [
    "# STEP 3 : Definition of the trainer"
   ]
  },
  {
   "cell_type": "markdown",
   "metadata": {},
   "source": [
    "Create a trainer (from pytorch_lighting) which will train the model by using the data module"
   ]
  },
  {
   "cell_type": "code",
   "execution_count": null,
   "metadata": {},
   "outputs": [],
   "source": [
    "trainer = pl.Trainer(gpus=-1, max_epochs=30)"
   ]
  },
  {
   "cell_type": "markdown",
   "metadata": {},
   "source": [
    "# STEP 4 : Gathering the data, model and trainer in a training instance"
   ]
  },
  {
   "cell_type": "markdown",
   "metadata": {},
   "source": [
    "Create the training. A training gathers a game (the data module), a player (the model) and a trainer (the trainer)"
   ]
  },
  {
   "cell_type": "code",
   "execution_count": null,
   "metadata": {},
   "outputs": [],
   "source": [
    "training = trainings.Training(\n",
    "        data_module=data_module,\n",
    "        model=model,\n",
    "        trainer=trainer,\n",
    "        checkpoint_filename='efficientnet',\n",
    "        checkpoint_dir_path='checkpoints'\n",
    "    )"
   ]
  },
  {
   "cell_type": "markdown",
   "metadata": {},
   "source": [
    "# STEP 5 : Launch the training"
   ]
  },
  {
   "cell_type": "code",
   "execution_count": null,
   "metadata": {},
   "outputs": [],
   "source": [
    "training.run()\n",
    "training.show_loss_curves()"
   ]
  },
  {
   "cell_type": "markdown",
   "metadata": {},
   "source": [
    "# STEP 6 : Contribute !"
   ]
  },
  {
   "cell_type": "markdown",
   "metadata": {},
   "source": [
    "I am waiting for your contribution :)"
   ]
  },
  {
   "cell_type": "code",
   "execution_count": null,
   "metadata": {},
   "outputs": [],
   "source": []
  }
 ],
 "metadata": {
  "kernelspec": {
   "display_name": "Python 3",
   "language": "python",
   "name": "python3"
  },
  "language_info": {
   "codemirror_mode": {
    "name": "ipython",
    "version": 3
   },
   "file_extension": ".py",
   "mimetype": "text/x-python",
   "name": "python",
   "nbconvert_exporter": "python",
   "pygments_lexer": "ipython3",
   "version": "3.8.5"
  }
 },
 "nbformat": 4,
 "nbformat_minor": 4
}
